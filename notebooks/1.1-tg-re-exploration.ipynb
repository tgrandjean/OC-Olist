{
 "cells": [
  {
   "cell_type": "code",
   "execution_count": null,
   "metadata": {},
   "outputs": [],
   "source": [
    "import os\n",
    "import numpy as np\n",
    "import pandas as pd\n",
    "import geopandas as gpd\n",
    "import matplotlib.pyplot as plt\n",
    "import plotly.express as px\n",
    "import seaborn as sns\n",
    "from sklearn.cluster import KMeans\n",
    "from sklearn.metrics import silhouette_score\n",
    "from sklearn.preprocessing import StandardScaler\n",
    "\n",
    "import missingno as msno\n",
    "import pandas_profiling\n",
    "\n",
    "from src.visualization.visualize import distplot\n",
    "\n",
    "sns.set(font_scale=1.)"
   ]
  },
  {
   "cell_type": "code",
   "execution_count": null,
   "metadata": {},
   "outputs": [],
   "source": [
    "import folium\n",
    "from folium.plugins import FastMarkerCluster"
   ]
  },
  {
   "cell_type": "markdown",
   "metadata": {},
   "source": [
    "## Chargement des données"
   ]
  },
  {
   "cell_type": "code",
   "execution_count": null,
   "metadata": {},
   "outputs": [],
   "source": [
    "data = dict()\n",
    "for dirname, _, filenames in os.walk('../data/raw'):\n",
    "    for filename in filenames:\n",
    "        key = filename.split('.')[0]\n",
    "        key = '_'.join(key.split('_')[1:-1]) if key.startswith('olist') else key\n",
    "        data[key] = pd.read_csv(os.path.join(dirname, filename))"
   ]
  },
  {
   "cell_type": "code",
   "execution_count": null,
   "metadata": {},
   "outputs": [],
   "source": [
    "print(data.keys())"
   ]
  },
  {
   "cell_type": "markdown",
   "metadata": {},
   "source": [
    "## Analyse des données géographiques\n",
    "\n",
    "On commence par agréger les dataframes contenant d'une part les données utilisateur et d'autre part les données\n",
    "contenant les localisations.\n",
    "\n",
    "On a alors un dataframe contentant les toutes les positions connues et pour tout les utilisateurs"
   ]
  },
  {
   "cell_type": "code",
   "execution_count": null,
   "metadata": {},
   "outputs": [],
   "source": [
    "loc_df = pd.merge(data['customers'],\n",
    "                  data['geolocation'],\n",
    "                  left_on='customer_zip_code_prefix',\n",
    "                  right_on='geolocation_zip_code_prefix')\n",
    "print(loc_df.shape)"
   ]
  },
  {
   "cell_type": "markdown",
   "metadata": {},
   "source": [
    "On peut réduire la quantité de donnée en ne gardant que la moyenne des positions (latitude et longitude) connues\n",
    "des utilisateurs."
   ]
  },
  {
   "cell_type": "code",
   "execution_count": null,
   "metadata": {},
   "outputs": [],
   "source": [
    "mean_loc_df = loc_df.groupby('customer_unique_id')[\n",
    "    ['geolocation_lat', 'geolocation_lng']].mean()\n",
    "print(mean_loc_df.shape)"
   ]
  },
  {
   "cell_type": "code",
   "execution_count": null,
   "metadata": {},
   "outputs": [],
   "source": [
    "gdf_customer = gpd.GeoDataFrame(mean_loc_df.copy(),\n",
    "                                geometry=gpd.points_from_xy(mean_loc_df['geolocation_lat'],\n",
    "                                                            mean_loc_df['geolocation_lng']))"
   ]
  },
  {
   "cell_type": "code",
   "execution_count": null,
   "metadata": {},
   "outputs": [],
   "source": [
    "gdf_customer.reset_index(inplace=True)"
   ]
  },
  {
   "cell_type": "code",
   "execution_count": null,
   "metadata": {},
   "outputs": [],
   "source": [
    "gdf_customer.plot()"
   ]
  },
  {
   "cell_type": "markdown",
   "metadata": {},
   "source": [
    "### Nombre de positions connues par client"
   ]
  },
  {
   "cell_type": "code",
   "execution_count": null,
   "metadata": {},
   "outputs": [],
   "source": [
    "distplot(loc_df.groupby('customer_unique_id').count()['customer_id'])\n",
    "plt.show()"
   ]
  },
  {
   "cell_type": "markdown",
   "metadata": {},
   "source": [
    "**Hypothèse** On enregistre la position quand le client consulte l'application, donc le nombre de positions enregistrées par client traduit également la fréquence de consultation de l'application."
   ]
  },
  {
   "cell_type": "markdown",
   "metadata": {},
   "source": [
    "### Localisation de l'activité"
   ]
  },
  {
   "cell_type": "code",
   "execution_count": null,
   "metadata": {},
   "outputs": [],
   "source": [
    "X = gdf_customer[['geolocation_lat', 'geolocation_lng']]\n",
    "\n",
    "scaler = StandardScaler()\n",
    "X = scaler.fit_transform(X)\n",
    "\n",
    "kmeans = KMeans(n_clusters=4)\n",
    "kmeans.fit(X)\n",
    "\n",
    "# silhouette_score(X, kmeans.labels_) # around 0.55"
   ]
  },
  {
   "cell_type": "code",
   "execution_count": null,
   "metadata": {},
   "outputs": [],
   "source": [
    "gdf_customer['group'] = kmeans.labels_"
   ]
  },
  {
   "cell_type": "code",
   "execution_count": null,
   "metadata": {},
   "outputs": [],
   "source": [
    "gdf_customer['group'].value_counts()"
   ]
  },
  {
   "cell_type": "code",
   "execution_count": null,
   "metadata": {},
   "outputs": [],
   "source": [
    "centers = pd.DataFrame(scaler.inverse_transform(kmeans.cluster_centers_))\n",
    "centers = pd.concat([gdf_customer['group'].value_counts().sort_index(),\n",
    "                     centers], axis=1)"
   ]
  },
  {
   "cell_type": "code",
   "execution_count": null,
   "metadata": {},
   "outputs": [],
   "source": [
    "fig, ax = plt.subplots(1, figsize=(12, 8))\n",
    "\n",
    "sns.scatterplot(gdf_customer['geolocation_lat'],\n",
    "                gdf_customer['geolocation_lng'],\n",
    "                hue=kmeans.labels_, ax=ax,\n",
    "                markers=False)\n",
    "\n",
    "\n",
    "sns.scatterplot(x=0,\n",
    "                y=1,\n",
    "                size='group',\n",
    "                sizes=(200, 2000),\n",
    "                legend=False,\n",
    "                ax=ax, data=centers, alpha=0.5)\n",
    "plt.xlabel('lat')\n",
    "plt.ylabel('long')\n",
    "ax.set_xlim(10, -50)\n",
    "ax.set_ylim(-30, -70)\n",
    "plt.savefig('../reports/figures/localisation_clusters.png')"
   ]
  },
  {
   "cell_type": "markdown",
   "metadata": {},
   "source": [
    "On garde également la déviation standard des positions de manière à savoir si le client voyage beaucoup"
   ]
  },
  {
   "cell_type": "code",
   "execution_count": null,
   "metadata": {},
   "outputs": [],
   "source": [
    "std_loc_df = loc_df.groupby('customer_unique_id')[\n",
    "    ['geolocation_lat', 'geolocation_lng']].std()\n",
    "distplot(std_loc_df['geolocation_lat'])\n",
    "distplot(std_loc_df['geolocation_lng'])\n",
    "plt.show()"
   ]
  },
  {
   "cell_type": "markdown",
   "metadata": {},
   "source": [
    "On peut visualiser la position des utlisateur sur une carte"
   ]
  },
  {
   "cell_type": "code",
   "execution_count": null,
   "metadata": {},
   "outputs": [],
   "source": [
    "init_lat = mean_loc_df['geolocation_lat'].mean()\n",
    "init_lng = mean_loc_df['geolocation_lng'].mean()"
   ]
  },
  {
   "cell_type": "code",
   "execution_count": null,
   "metadata": {},
   "outputs": [],
   "source": [
    "                             \n",
    "m = folium.Map(location=(mean_loc_df.mean()), zoom_start=3)\n",
    "m.add_child(FastMarkerCluster(mean_loc_df.values.tolist()))\n",
    "\n",
    "for center in range(centers.shape[0]):\n",
    "    folium.CircleMarker(\n",
    "        location=centers.iloc[center, 1:],\n",
    "        radius=(centers.iloc[center, 0] // 2000).astype(str),\n",
    "        fill=True,\n",
    "        popup=center,\n",
    "    ).add_to(m)\n",
    "\n",
    "# m.save('../reports/customer_map_with_centroids.html')\n",
    "m"
   ]
  },
  {
   "cell_type": "code",
   "execution_count": null,
   "metadata": {},
   "outputs": [],
   "source": [
    "m.save('../reports/customer_map.html')"
   ]
  },
  {
   "cell_type": "markdown",
   "metadata": {},
   "source": [
    "Un clustering des données géographique montre que la grande majorité de l'activité se concentre dans la région de Rio de Janeiro et São Paulo"
   ]
  },
  {
   "cell_type": "markdown",
   "metadata": {},
   "source": [
    "Difficile de voir un intêret à utiliser les données géographiques à l'heure actuelle."
   ]
  },
  {
   "cell_type": "markdown",
   "metadata": {},
   "source": [
    "Peut-être regarder la distance moyenne par rapport aux vendeurs"
   ]
  },
  {
   "cell_type": "markdown",
   "metadata": {},
   "source": [
    "### Positions des vendeurs"
   ]
  },
  {
   "cell_type": "code",
   "execution_count": null,
   "metadata": {},
   "outputs": [],
   "source": [
    "seller_loc_df = pd.merge(data['sellers'],\n",
    "                         data['geolocation'],\n",
    "                         left_on='seller_zip_code_prefix',\n",
    "                         right_on='geolocation_zip_code_prefix')\n",
    "print(seller_loc_df.shape)"
   ]
  },
  {
   "cell_type": "code",
   "execution_count": null,
   "metadata": {},
   "outputs": [],
   "source": [
    "seller_mean_loc_df = seller_loc_df.groupby('seller_id')[['geolocation_lat',\n",
    "                                                         'geolocation_lng']].mean()\n",
    "print(seller_mean_loc_df.shape)"
   ]
  },
  {
   "cell_type": "markdown",
   "metadata": {},
   "source": [
    "On a donc 7 vendeurs pour lesquels on a pas de positions."
   ]
  },
  {
   "cell_type": "code",
   "execution_count": null,
   "metadata": {},
   "outputs": [],
   "source": [
    "seller_std_loc_df = seller_loc_df.groupby('seller_id')[['geolocation_lat',\n",
    "                                                        'geolocation_lng']].std()\n",
    "distplot(seller_std_loc_df['geolocation_lat'])\n",
    "distplot(seller_std_loc_df['geolocation_lng'])\n",
    "plt.show()"
   ]
  },
  {
   "cell_type": "code",
   "execution_count": null,
   "metadata": {},
   "outputs": [],
   "source": [
    "init_lat = seller_mean_loc_df['geolocation_lat'].mean()\n",
    "init_lng = seller_mean_loc_df['geolocation_lng'].mean()"
   ]
  },
  {
   "cell_type": "code",
   "execution_count": null,
   "metadata": {},
   "outputs": [],
   "source": [
    "m = folium.Map(location=(seller_mean_loc_df.mean()), zoom_start=3)\n",
    "m.add_child(FastMarkerCluster(seller_mean_loc_df.values.tolist()))\n",
    "# m.save('../reports/seller_map.html')"
   ]
  },
  {
   "cell_type": "markdown",
   "metadata": {},
   "source": [
    "## Retour aux reste des données "
   ]
  },
  {
   "cell_type": "code",
   "execution_count": null,
   "metadata": {},
   "outputs": [],
   "source": [
    "pd.merge(pd.merge(data['customers'], data['orders'], \n",
    "                  left_on='customer_id', \n",
    "                  right_on='customer_id'),\n",
    "         pd.merge(data['orders'], data['order_payments'], \n",
    "                  left_on='order_id', \n",
    "                  right_on='order_id'),\n",
    "         left_on='customer_id',\n",
    "         right_on='customer_id',\n",
    "        )"
   ]
  },
  {
   "cell_type": "markdown",
   "metadata": {},
   "source": [
    "### Analyse des paiements"
   ]
  },
  {
   "cell_type": "markdown",
   "metadata": {},
   "source": [
    "#### Types de paiments"
   ]
  },
  {
   "cell_type": "code",
   "execution_count": null,
   "metadata": {},
   "outputs": [],
   "source": [
    "payment_type = pd.pivot_table(\n",
    "    pd.merge(pd.merge(data['customers'], data['orders'],\n",
    "                      left_on='customer_id',\n",
    "                      right_on='customer_id'),\n",
    "             pd.merge(data['orders'], data['order_payments'],\n",
    "                      left_on='order_id',\n",
    "                      right_on='order_id'),\n",
    "             left_on='customer_id',\n",
    "             right_on='customer_id',\n",
    "             ), columns=['payment_type'], index=['customer_unique_id'], values=['payment_value'])"
   ]
  },
  {
   "cell_type": "code",
   "execution_count": null,
   "metadata": {},
   "outputs": [],
   "source": [
    "payment_type.fillna(0, inplace=True)"
   ]
  },
  {
   "cell_type": "code",
   "execution_count": null,
   "metadata": {},
   "outputs": [],
   "source": [
    "plt.bar(payment_type.sum().index.levels[1].values, payment_type.sum().values)\n",
    "plt.title('Total CA par moyen de paiment')\n",
    "plt.show()"
   ]
  },
  {
   "cell_type": "code",
   "execution_count": null,
   "metadata": {},
   "outputs": [],
   "source": [
    "plt.bar(payment_type.sum().index.levels[1].values,\n",
    "        (payment_type.sum().values / payment_type.sum().sum() * 100))\n",
    "plt.title('Part CA par moyen de paiment')\n",
    "plt.show()"
   ]
  },
  {
   "cell_type": "markdown",
   "metadata": {},
   "source": [
    "#### Mensualités"
   ]
  },
  {
   "cell_type": "code",
   "execution_count": null,
   "metadata": {},
   "outputs": [],
   "source": [
    "payment_installments = pd.merge(\n",
    "    pd.merge(data['customers'], data['orders'],\n",
    "             left_on='customer_id',\n",
    "             right_on='customer_id'),\n",
    "    pd.merge(data['orders'], data['order_payments'],\n",
    "             left_on='order_id',\n",
    "             right_on='order_id'),\n",
    "    left_on='customer_id',\n",
    "    right_on='customer_id',\n",
    ").groupby('customer_unique_id').mean()['payment_installments']"
   ]
  },
  {
   "cell_type": "code",
   "execution_count": null,
   "metadata": {},
   "outputs": [],
   "source": [
    "distplot(payment_installments, kde=False, norm_hist=True)\n",
    "ax = plt.gca()\n",
    "ax.set_title('Nombre de mensualités choisies par les clients')\n",
    "plt.show()"
   ]
  },
  {
   "cell_type": "code",
   "execution_count": null,
   "metadata": {},
   "outputs": [],
   "source": [
    "monthly_payment = pd.merge(\n",
    "    pd.merge(data['customers'], data['orders'],\n",
    "             left_on='customer_id',\n",
    "             right_on='customer_id'),\n",
    "    pd.merge(data['orders'], data['order_payments'],\n",
    "             left_on='order_id',\n",
    "             right_on='order_id'),\n",
    "    left_on='customer_id',\n",
    "    right_on='customer_id',\n",
    ").groupby('customer_unique_id').agg({'payment_installments': np.mean,\n",
    "                                     'payment_value': np.sum})"
   ]
  },
  {
   "cell_type": "code",
   "execution_count": null,
   "metadata": {},
   "outputs": [],
   "source": [
    "monthly_payment['payment_installments'].replace(0, 1, inplace=True)"
   ]
  },
  {
   "cell_type": "code",
   "execution_count": null,
   "metadata": {},
   "outputs": [],
   "source": [
    "monthly_payment['monthly_payment'] = monthly_payment['payment_value'] \\\n",
    "    / monthly_payment['payment_installments']"
   ]
  },
  {
   "cell_type": "code",
   "execution_count": null,
   "metadata": {},
   "outputs": [],
   "source": [
    "distplot(monthly_payment['monthly_payment'], kde=False, norm_hist=True)\n",
    "ax = plt.gca()\n",
    "ax.set_title('Montant moyen des mensualités')\n",
    "plt.show()"
   ]
  },
  {
   "cell_type": "markdown",
   "metadata": {},
   "source": [
    "## Habitutes des clients"
   ]
  },
  {
   "cell_type": "markdown",
   "metadata": {},
   "source": [
    "Part de CA en fonction du jour de la semaine"
   ]
  },
  {
   "cell_type": "code",
   "execution_count": null,
   "metadata": {},
   "outputs": [],
   "source": [
    "orders = pd.merge(pd.merge(data['customers'], data['orders'],\n",
    "                           left_on='customer_id',\n",
    "                           right_on='customer_id'),\n",
    "                  pd.merge(data['orders'], data['order_payments'],\n",
    "                           left_on='order_id',\n",
    "                           right_on='order_id'),\n",
    "                  left_on='customer_id',\n",
    "                  right_on='customer_id',\n",
    "                  )"
   ]
  },
  {
   "cell_type": "code",
   "execution_count": null,
   "metadata": {},
   "outputs": [],
   "source": [
    "orders['order_purchase_timestamp_x'] = pd.to_datetime(\n",
    "    orders['order_purchase_timestamp_x'])\n",
    "orders['weekday'] = orders['order_purchase_timestamp_x'].dt.dayofweek"
   ]
  },
  {
   "cell_type": "code",
   "execution_count": null,
   "metadata": {},
   "outputs": [],
   "source": [
    "f, ax = plt.subplots(1)\n",
    "ax.bar(orders.groupby('weekday').sum()['payment_value'].index.values,\n",
    "       orders.groupby('weekday').sum()['payment_value'].values)\n",
    "ax.set_xticks([x for x in range(7)])\n",
    "ax.set_xticklabels(['lun', 'mar', 'mer', 'jeu', 'ven', 'sam', 'dim'])\n",
    "# ax.set_title('Cumul CA en fonction du jour de la semaine')\n",
    "plt.show()"
   ]
  },
  {
   "cell_type": "markdown",
   "metadata": {},
   "source": [
    "Part de CA en fonction de l'heure"
   ]
  },
  {
   "cell_type": "code",
   "execution_count": null,
   "metadata": {},
   "outputs": [],
   "source": [
    "orders['h'] = orders['order_purchase_timestamp_x'].dt.hour"
   ]
  },
  {
   "cell_type": "code",
   "execution_count": null,
   "metadata": {},
   "outputs": [],
   "source": [
    "f, ax = plt.subplots(1)\n",
    "ax.bar(orders.groupby('h').sum()['payment_value'].index.values,\n",
    "       orders.groupby('h').sum()['payment_value'].values)\n",
    "# ax.set_title(\"Cumul CA en fonction de l'heure\")\n",
    "plt.show()"
   ]
  },
  {
   "cell_type": "code",
   "execution_count": null,
   "metadata": {},
   "outputs": [],
   "source": [
    "orders['d'] = orders['order_purchase_timestamp_x'].dt.day"
   ]
  },
  {
   "cell_type": "code",
   "execution_count": null,
   "metadata": {},
   "outputs": [],
   "source": [
    "f, ax = plt.subplots(1)\n",
    "ax.bar(orders.groupby('d').sum()['payment_value'].index.values,\n",
    "       orders.groupby('d').sum()['payment_value'].values)\n",
    "# ax.set_title('Cumul CA en fonction du jour du mois')\n",
    "plt.show()"
   ]
  },
  {
   "cell_type": "markdown",
   "metadata": {},
   "source": [
    "## Activité par région"
   ]
  },
  {
   "cell_type": "markdown",
   "metadata": {},
   "source": [
    "Quelles régions rapportent le plus? "
   ]
  },
  {
   "cell_type": "code",
   "execution_count": null,
   "metadata": {},
   "outputs": [],
   "source": [
    "f, ax = plt.subplots(1, figsize=(12, 8))\n",
    "ax.barh(orders.groupby('customer_state').sum()['payment_value'].sort_values().index.values,\n",
    "        orders.groupby('customer_state').sum()['payment_value'].sort_values().values)\n",
    "plt.title('Total CA en fonction des régions')\n",
    "plt.show()"
   ]
  },
  {
   "cell_type": "code",
   "execution_count": null,
   "metadata": {},
   "outputs": [],
   "source": [
    "orders.head()"
   ]
  },
  {
   "cell_type": "code",
   "execution_count": null,
   "metadata": {},
   "outputs": [],
   "source": [
    "ts = orders.set_index(pd.to_datetime(orders['order_purchase_timestamp_x']))\n",
    "ts = ts[['payment_value', 'customer_state']]"
   ]
  },
  {
   "cell_type": "code",
   "execution_count": null,
   "metadata": {},
   "outputs": [],
   "source": [
    "ts = ts.groupby('customer_state').resample('D').sum()"
   ]
  },
  {
   "cell_type": "code",
   "execution_count": null,
   "metadata": {},
   "outputs": [],
   "source": [
    "fig = px.line(ts.reset_index(),\n",
    "              x='order_purchase_timestamp_x',\n",
    "              y='payment_value',\n",
    "              color='customer_state',\n",
    "              title='CA par jour et par région')\n",
    "fig.show()"
   ]
  },
  {
   "cell_type": "code",
   "execution_count": null,
   "metadata": {},
   "outputs": [],
   "source": [
    "ts = orders.set_index(pd.to_datetime(orders['order_purchase_timestamp_x']))\n",
    "ts = ts[['payment_value', 'customer_state']]"
   ]
  },
  {
   "cell_type": "code",
   "execution_count": null,
   "metadata": {},
   "outputs": [],
   "source": [
    "ts = ts.groupby('customer_state').resample('D').sum()"
   ]
  },
  {
   "cell_type": "code",
   "execution_count": null,
   "metadata": {},
   "outputs": [],
   "source": [
    "ts = ts.groupby('customer_state').cumsum().reset_index()"
   ]
  },
  {
   "cell_type": "code",
   "execution_count": null,
   "metadata": {},
   "outputs": [],
   "source": [
    "fig = px.line(ts.reset_index(),\n",
    "              x='order_purchase_timestamp_x',\n",
    "              y='payment_value',\n",
    "              color='customer_state',\n",
    "              title='Cumul CA par région')\n",
    "fig.show()"
   ]
  },
  {
   "cell_type": "markdown",
   "metadata": {},
   "source": [
    "## Vendeurs et frais de port"
   ]
  },
  {
   "cell_type": "code",
   "execution_count": null,
   "metadata": {},
   "outputs": [],
   "source": [
    "sellers = pd.merge(\n",
    "    pd.merge(data['orders'], data['order_items'],\n",
    "             left_on='order_id', right_on='order_id'),\n",
    "    pd.merge(data['order_items'], data['sellers'],\n",
    "             left_on='seller_id', right_on='seller_id'),\n",
    "    left_on='order_id', right_on='order_id'\n",
    ")"
   ]
  },
  {
   "cell_type": "code",
   "execution_count": null,
   "metadata": {},
   "outputs": [],
   "source": [
    "distplot(sellers['freight_value_x'])\n",
    "ax = plt.gca()\n",
    "ax.set_title('Distribution des frais de port')\n",
    "ax.set_xlabel('Montant frais de port')\n",
    "plt.show()"
   ]
  },
  {
   "cell_type": "code",
   "execution_count": null,
   "metadata": {},
   "outputs": [],
   "source": [
    "distplot(sellers['price_x'])\n",
    "ax = plt.gca()\n",
    "ax.set_title(\"Distribution des prix des articles\")\n",
    "plt.show()"
   ]
  },
  {
   "cell_type": "code",
   "execution_count": null,
   "metadata": {},
   "outputs": [],
   "source": [
    "sellers.groupby('seller_state').sum()"
   ]
  },
  {
   "cell_type": "code",
   "execution_count": null,
   "metadata": {},
   "outputs": [],
   "source": [
    "f, ax = plt.subplots(1, figsize=(12, 8))\n",
    "ax.barh(sellers.groupby('seller_state').sum()['price_x'].sort_values().index.values,\n",
    "        sellers.groupby('seller_state').sum()['price_x'].sort_values().values)\n",
    "ax.set_title('Total CA réalisé par les vendeurs en fonction de la région')\n",
    "plt.show()"
   ]
  },
  {
   "cell_type": "code",
   "execution_count": null,
   "metadata": {},
   "outputs": [],
   "source": [
    "merged = pd.merge(\n",
    "    pd.merge(data['customers'], data['orders'],\n",
    "             left_on='customer_id', right_on='customer_id'),\n",
    "    pd.merge(data['orders'], sellers,\n",
    "             left_on='order_id', right_on='order_id'),\n",
    "    left_on='order_id',\n",
    "    right_on='order_id'\n",
    ")"
   ]
  },
  {
   "cell_type": "code",
   "execution_count": null,
   "metadata": {},
   "outputs": [],
   "source": [
    "merged"
   ]
  },
  {
   "cell_type": "code",
   "execution_count": null,
   "metadata": {},
   "outputs": [],
   "source": [
    "distplot(merged['freight_value_x'] / merged['price_x'] * 100)\n",
    "ax = plt.gca()\n",
    "ax.set_xlabel('% frais de port par article')\n",
    "plt.show()"
   ]
  },
  {
   "cell_type": "markdown",
   "metadata": {},
   "source": [
    "### Distance entre vendeurs et acheteurs"
   ]
  },
  {
   "cell_type": "code",
   "execution_count": null,
   "metadata": {},
   "outputs": [],
   "source": [
    "merged = pd.merge(merged, mean_loc_df.reset_index(),\n",
    "                  left_on='customer_unique_id',\n",
    "                  right_on='customer_unique_id')"
   ]
  },
  {
   "cell_type": "code",
   "execution_count": null,
   "metadata": {},
   "outputs": [],
   "source": [
    "merged.rename(columns={'geolocation_lat': 'cust_lat',\n",
    "                       'geolocation_lng': 'cust_lng'}, inplace=True)"
   ]
  },
  {
   "cell_type": "code",
   "execution_count": null,
   "metadata": {},
   "outputs": [],
   "source": [
    "merged = pd.merge(merged, seller_mean_loc_df.reset_index(),\n",
    "                  left_on='seller_id_x', right_on='seller_id')"
   ]
  },
  {
   "cell_type": "code",
   "execution_count": null,
   "metadata": {},
   "outputs": [],
   "source": [
    "merged.rename(columns={\"geolocation_lat\": \"seller_lat\",\n",
    "                       \"geolocation_lng\": \"seller_lng\"}, inplace=True)"
   ]
  },
  {
   "cell_type": "code",
   "execution_count": null,
   "metadata": {},
   "outputs": [],
   "source": [
    "gdf = gpd.GeoDataFrame(merged,\n",
    "                       geometry=gpd.points_from_xy(merged['cust_lat'],\n",
    "                                                   merged['cust_lng']))\n",
    "gdf.crs = \"WGS84\"\n",
    "gdf = gdf.to_crs(epsg=3395)"
   ]
  },
  {
   "cell_type": "code",
   "execution_count": null,
   "metadata": {},
   "outputs": [],
   "source": [
    "gdf['pos_seller'] = gpd.points_from_xy(\n",
    "    merged['seller_lat'], merged['seller_lng'])"
   ]
  },
  {
   "cell_type": "code",
   "execution_count": null,
   "metadata": {},
   "outputs": [],
   "source": [
    "pos_seller = gpd.GeoSeries(gdf['pos_seller'])\n",
    "# set lat/long coordinate as CRS\n",
    "pos_seller.crs = \"WGS84\"\n",
    "# reprojection to mercator to get meters as units\n",
    "pos_seller = pos_seller.to_crs(epsg=3395)"
   ]
  },
  {
   "cell_type": "code",
   "execution_count": null,
   "metadata": {},
   "outputs": [],
   "source": [
    "pos_seller.crs"
   ]
  },
  {
   "cell_type": "code",
   "execution_count": null,
   "metadata": {},
   "outputs": [],
   "source": [
    "# We can calculate the distance directly in meters\n",
    "# and finally get the results in kilometers by using mercator's projection.\n",
    "merged['distance'] = gdf.geometry.distance(pos_seller) / 1e3\n",
    "fig = distplot(merged['distance'])\n",
    "ax = plt.gca()\n",
    "ax.set_title('Distance entre acheteurs et vendeurs en Km')\n",
    "plt.show()"
   ]
  },
  {
   "cell_type": "code",
   "execution_count": null,
   "metadata": {},
   "outputs": [],
   "source": [
    "sns.relplot(data=merged, x='distance', y='freight_value_x')"
   ]
  },
  {
   "cell_type": "code",
   "execution_count": null,
   "metadata": {},
   "outputs": [],
   "source": [
    "merged = pd.merge(merged, data['products'],\n",
    "                  left_on='product_id_x', right_on='product_id')"
   ]
  },
  {
   "cell_type": "code",
   "execution_count": null,
   "metadata": {},
   "outputs": [],
   "source": [
    "sns.relplot(data=merged, x='product_weight_g', y='freight_value_x')"
   ]
  },
  {
   "cell_type": "code",
   "execution_count": null,
   "metadata": {},
   "outputs": [],
   "source": [
    "merged['W'] = (merged['product_weight_g'] / 1e3) * merged['distance']"
   ]
  },
  {
   "cell_type": "code",
   "execution_count": null,
   "metadata": {},
   "outputs": [],
   "source": [
    "sns.relplot(data=merged, x='W', y='freight_value_x')"
   ]
  },
  {
   "cell_type": "code",
   "execution_count": null,
   "metadata": {},
   "outputs": [],
   "source": [
    "merged['volume'] = (merged['product_length_cm'] / 100) \\\n",
    "    * (merged['product_height_cm'] / 100) \\\n",
    "    * (merged['product_width_cm'] / 100)"
   ]
  },
  {
   "cell_type": "code",
   "execution_count": null,
   "metadata": {},
   "outputs": [],
   "source": [
    "sns.relplot(data=merged, x='volume', y='freight_value_x')"
   ]
  },
  {
   "cell_type": "code",
   "execution_count": null,
   "metadata": {},
   "outputs": [],
   "source": [
    "merged['vol_km'] = merged['volume'] * merged['distance']"
   ]
  },
  {
   "cell_type": "code",
   "execution_count": null,
   "metadata": {},
   "outputs": [],
   "source": [
    "sns.relplot(data=merged, x='vol_km', y='freight_value_x')"
   ]
  }
 ],
 "metadata": {
  "kernelspec": {
   "display_name": "olist",
   "language": "python",
   "name": "olist"
  },
  "language_info": {
   "codemirror_mode": {
    "name": "ipython",
    "version": 3
   },
   "file_extension": ".py",
   "mimetype": "text/x-python",
   "name": "python",
   "nbconvert_exporter": "python",
   "pygments_lexer": "ipython3",
   "version": "3.7.4"
  },
  "toc": {
   "base_numbering": 1,
   "nav_menu": {},
   "number_sections": true,
   "sideBar": true,
   "skip_h1_title": false,
   "title_cell": "Table of Contents",
   "title_sidebar": "Contents",
   "toc_cell": false,
   "toc_position": {},
   "toc_section_display": true,
   "toc_window_display": true
  },
  "varInspector": {
   "cols": {
    "lenName": 16,
    "lenType": 16,
    "lenVar": 40
   },
   "kernels_config": {
    "python": {
     "delete_cmd_postfix": "",
     "delete_cmd_prefix": "del ",
     "library": "var_list.py",
     "varRefreshCmd": "print(var_dic_list())"
    },
    "r": {
     "delete_cmd_postfix": ") ",
     "delete_cmd_prefix": "rm(",
     "library": "var_list.r",
     "varRefreshCmd": "cat(var_dic_list()) "
    }
   },
   "types_to_exclude": [
    "module",
    "function",
    "builtin_function_or_method",
    "instance",
    "_Feature"
   ],
   "window_display": false
  }
 },
 "nbformat": 4,
 "nbformat_minor": 2
}
