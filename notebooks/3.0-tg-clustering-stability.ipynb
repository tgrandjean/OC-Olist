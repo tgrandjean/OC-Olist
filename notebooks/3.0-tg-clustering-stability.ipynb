{
 "cells": [
  {
   "cell_type": "markdown",
   "metadata": {},
   "source": [
    "Segmentez des clients d'un site de e-commerce\n",
    "==========================================\n",
    "\n",
    "![logo](https://olist.com/wp-content/uploads/2018/04/Logo-01.png)"
   ]
  },
  {
   "cell_type": "code",
   "execution_count": null,
   "metadata": {},
   "outputs": [],
   "source": [
    "import os\n",
    "from pathlib import Path\n",
    "from datetime import datetime, timedelta\n",
    "\n",
    "import numpy as np\n",
    "import pandas as pd\n",
    "import matplotlib.pyplot as plt\n",
    "import seaborn as sns\n",
    "from ipywidgets import widgets, interact, interact_manual\n",
    "from IPython.display import display\n",
    "from sklearn.preprocessing import StandardScaler\n",
    "from sklearn.cluster import KMeans\n",
    "from sklearn.metrics import silhouette_score\n",
    "from tqdm.notebook import tqdm\n",
    "import plotly.express as px\n",
    "\n",
    "from pandas.plotting import register_matplotlib_converters\n",
    "\n",
    "from src.features.build_features import load_data, make_dataset\n",
    "from src.visualization.visualize import group_analysis\n",
    "\n",
    "sns.set(font_scale=1.5)\n",
    "register_matplotlib_converters()"
   ]
  },
  {
   "cell_type": "markdown",
   "metadata": {},
   "source": [
    "## Chargement des données"
   ]
  },
  {
   "cell_type": "code",
   "execution_count": null,
   "metadata": {},
   "outputs": [],
   "source": [
    "data = load_data(Path('../data/raw').resolve())"
   ]
  },
  {
   "cell_type": "markdown",
   "metadata": {},
   "source": [
    "### groupes"
   ]
  },
  {
   "cell_type": "code",
   "execution_count": null,
   "metadata": {},
   "outputs": [],
   "source": [
    "date_start = widgets.DatePicker(value=datetime(year=2017, month=1, day=1))\n",
    "date_end = widgets.DatePicker(value=datetime(year=2018, month=1, day=1))\n",
    "n_clusters = widgets.IntSlider(value=8, min=2, max=20)\n",
    "\n",
    "\n",
    "@interact_manual()\n",
    "def make_data(date_start=date_start, date_end=date_end, n_clusters=n_clusters):\n",
    "    df = make_dataset(data, pd.to_datetime(\n",
    "        date_start), pd.to_datetime(date_end))\n",
    "    for col in ['monetary', 'clothing',\n",
    "                'high-tech', 'home', 'other']:\n",
    "        df[col] = df[col].apply(np.log1p)\n",
    "    X = df.drop('index', axis=1).values\n",
    "    X = StandardScaler().fit_transform(X)\n",
    "    kmeans = KMeans(n_clusters=n_clusters).fit(X)\n",
    "    df.loc[:, 'group'] = kmeans.labels_\n",
    "    group_analysis(df)"
   ]
  },
  {
   "cell_type": "markdown",
   "metadata": {},
   "source": [
    "## Comment se comportent les groupes avec l'ajout de données"
   ]
  },
  {
   "cell_type": "code",
   "execution_count": null,
   "metadata": {},
   "outputs": [],
   "source": [
    "# let check with one day more to 180 days\n",
    "deltas = [1, 7, 14, 30, 90, 180]\n",
    "deltas = list(map(timedelta, deltas))"
   ]
  },
  {
   "cell_type": "code",
   "execution_count": null,
   "metadata": {
    "code_folding": []
   },
   "outputs": [],
   "source": [
    "sns.set(font_scale=1)\n",
    "\n",
    "date_start = datetime(2017, 1, 1)\n",
    "date_end = datetime(2018, 1, 1)\n",
    "df_ = make_dataset(data, date_start, date_end)\n",
    "\n",
    "scaler = StandardScaler()\n",
    "\n",
    "for col in ['monetary', 'clothing',\n",
    "            'high-tech', 'home', 'other']:\n",
    "    df_[col] = df_[col].apply(np.log1p)\n",
    "X = df_.drop('index', axis=1).values\n",
    "X = scaler.fit_transform(X)\n",
    "kmeans = KMeans(n_clusters=9).fit(X)\n",
    "df_.loc[:, 'group'] = kmeans.labels_\n",
    "col_to_log = ['monetary', 'clothing',\n",
    "              'high-tech', 'home', 'other']\n",
    "for col in col_to_log:\n",
    "    df_[col] = df_[col].apply(np.expm1)\n",
    "group_analysis(df_)\n",
    "df_.set_index('index', inplace=True)\n",
    "# Reuse centroids from previous clustering\n",
    "centers_ = kmeans.cluster_centers_\n",
    "print('Nombre de clients : %i' % df_.shape[0])\n",
    "for delta in deltas:\n",
    "    date_start = datetime(2017, 1, 1)\n",
    "    date_end = datetime(2018, 1, 1) + delta\n",
    "    print(f'Période allant du {date_start} au {date_end}')\n",
    "    df = make_dataset(data, date_start, date_end)\n",
    "    for col in ['monetary', 'clothing',\n",
    "                'high-tech', 'home', 'other']:\n",
    "        df[col] = df[col].apply(np.log1p)\n",
    "    X = df.drop('index', axis=1).values\n",
    "    X = scaler.fit_transform(X)\n",
    "    kmeans = KMeans(n_clusters=9, init=centers_, n_init=1).fit(X)\n",
    "    df.loc[:, 'group'] = kmeans.labels_\n",
    "    col_to_log = ['monetary', 'clothing',\n",
    "                  'high-tech', 'home', 'other']\n",
    "    for col in col_to_log:\n",
    "        df[col] = df[col].apply(np.expm1)\n",
    "    group_analysis(df)\n",
    "    df.set_index('index', inplace=True)\n",
    "    print(f\"Nombre de nouveaux clients %i\" % (df.shape[0] - df_.shape[0]))\n",
    "    moved = df_.shape[0] - (df.loc[df_.index]['group'] == df_.group).sum()\n",
    "    print(f'Nombre de clients ayant changé de groupe %i' % moved)"
   ]
  },
  {
   "cell_type": "code",
   "execution_count": null,
   "metadata": {},
   "outputs": [],
   "source": [
    "def score_on_periods(n_group=2):\n",
    "    \"\"\"Compute silhouette score on different periods.\"\"\"\n",
    "    scores = list()\n",
    "    for delta in tqdm(deltas):\n",
    "        date_start = datetime(2017, 1, 1)\n",
    "        date_end = datetime(2018, 1, 1) + delta\n",
    "        print(f'Période allant du {date_start} au {date_end}')\n",
    "        df = make_dataset(data, date_start, date_end)\n",
    "        for col in ['monetary', 'clothing', 'high-tech',\n",
    "                    'home', 'other']:\n",
    "            df[col] = df[col].apply(np.log1p)\n",
    "        X = df.drop('index', axis=1).values\n",
    "        X = StandardScaler().fit_transform(X)\n",
    "        kmeans = KMeans(n_clusters=n_group).fit(X)\n",
    "        score = silhouette_score(X, kmeans.labels_, n_jobs=8)\n",
    "        scores.append(score)\n",
    "    return scores"
   ]
  },
  {
   "cell_type": "code",
   "execution_count": null,
   "metadata": {},
   "outputs": [],
   "source": [
    "scoring_results = dict()\n",
    "for n in tqdm(range(7, 10)):\n",
    "    key = f'{n} groups'\n",
    "    scoring_results[key] = score_on_periods(n_group=n)"
   ]
  },
  {
   "cell_type": "code",
   "execution_count": null,
   "metadata": {},
   "outputs": [],
   "source": [
    "fig, ax = plt.subplots(1, figsize=(12, 8))\n",
    "for key, val in scoring_results.items():\n",
    "    x = list(map(lambda x: datetime(2017, 1, 1) + x, deltas))\n",
    "    ax.plot(x, val, label=key)\n",
    "    plt.legend()"
   ]
  }
 ],
 "metadata": {
  "kernelspec": {
   "display_name": "olist",
   "language": "python",
   "name": "olist"
  },
  "language_info": {
   "codemirror_mode": {
    "name": "ipython",
    "version": 3
   },
   "file_extension": ".py",
   "mimetype": "text/x-python",
   "name": "python",
   "nbconvert_exporter": "python",
   "pygments_lexer": "ipython3",
   "version": "3.7.4"
  },
  "toc": {
   "base_numbering": 1,
   "nav_menu": {},
   "number_sections": true,
   "sideBar": true,
   "skip_h1_title": false,
   "title_cell": "Table of Contents",
   "title_sidebar": "Contents",
   "toc_cell": false,
   "toc_position": {},
   "toc_section_display": true,
   "toc_window_display": true
  },
  "varInspector": {
   "cols": {
    "lenName": 16,
    "lenType": 16,
    "lenVar": 40
   },
   "kernels_config": {
    "python": {
     "delete_cmd_postfix": "",
     "delete_cmd_prefix": "del ",
     "library": "var_list.py",
     "varRefreshCmd": "print(var_dic_list())"
    },
    "r": {
     "delete_cmd_postfix": ") ",
     "delete_cmd_prefix": "rm(",
     "library": "var_list.r",
     "varRefreshCmd": "cat(var_dic_list()) "
    }
   },
   "types_to_exclude": [
    "module",
    "function",
    "builtin_function_or_method",
    "instance",
    "_Feature"
   ],
   "window_display": false
  }
 },
 "nbformat": 4,
 "nbformat_minor": 2
}
