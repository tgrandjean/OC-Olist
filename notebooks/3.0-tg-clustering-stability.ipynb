{
 "cells": [
  {
   "cell_type": "markdown",
   "metadata": {},
   "source": [
    "Segmentez des clients d'un site de e-commerce\n",
    "==========================================\n",
    "\n",
    "![logo](https://olist.com/wp-content/uploads/2018/04/Logo-01.png)"
   ]
  },
  {
   "cell_type": "code",
   "execution_count": null,
   "metadata": {},
   "outputs": [],
   "source": [
    "import os\n",
    "from pathlib import Path\n",
    "from datetime import datetime, timedelta\n",
    "\n",
    "import numpy as np\n",
    "import pandas as pd\n",
    "import matplotlib.pyplot as plt\n",
    "import seaborn as sns\n",
    "from ipywidgets import widgets, interact, interact_manual\n",
    "from IPython.display import display\n",
    "from sklearn.preprocessing import StandardScaler\n",
    "from sklearn.cluster import KMeans\n",
    "\n",
    "from src.features import build_features\n",
    "from src.visualization.visualize import group_analysis\n",
    "\n",
    "sns.set()\n",
    "\n",
    "RANDOM_STATE = 100 # Keep cluster consistent over execution"
   ]
  },
  {
   "cell_type": "code",
   "execution_count": null,
   "metadata": {},
   "outputs": [],
   "source": [
    "data = build_features.load_data(Path('../data/raw').resolve())"
   ]
  },
  {
   "cell_type": "code",
   "execution_count": null,
   "metadata": {},
   "outputs": [],
   "source": [
    "def make_dataset(data, date_start, date_end):\n",
    "    orders = build_features.get_orders_between_two_dates(data, date_start, date_end)\n",
    "    customers = build_features.customer_table(data)\n",
    "    customers = build_features.frequencies(customers, orders, data)\n",
    "    customers = build_features.recencies(customers, orders, data)\n",
    "    customers = build_features.monetary(customers, orders, data)\n",
    "    customers = build_features.items_per_cart(customers, orders, data)\n",
    "    customers = build_features.monetary_per_categ(customers, orders, data)\n",
    "    customers = build_features.reviews(customers, data)\n",
    "    customers = customers[customers['frequency'] > 0]\n",
    "    customers = customers[customers['recency'].notna()]\n",
    "    customers.fillna(0.0, inplace=True)\n",
    "    customers['recency'] = customers['recency'].apply(lambda x: x.days)\n",
    "    customers.reset_index(drop=False, inplace=True)\n",
    "    customers.drop_duplicates(inplace=True)\n",
    "    return customers"
   ]
  },
  {
   "cell_type": "code",
   "execution_count": null,
   "metadata": {},
   "outputs": [],
   "source": [
    "date_start = widgets.DatePicker(value=datetime(year=2017, month=1, day=1))\n",
    "date_end = widgets.DatePicker(value=datetime(year=2018, month=1, day=1))\n",
    "n_clusters = widgets.IntSlider(value=8, min=2, max=20)\n",
    "\n",
    "@interact_manual()\n",
    "def make_data(date_start=date_start, date_end=date_end, n_clusters=n_clusters):\n",
    "    df = make_dataset(data, pd.to_datetime(date_start), pd.to_datetime(date_end))\n",
    "    for col in ['monetary', 'clothing', 'food', \n",
    "                'high-tech', 'home', 'other']:\n",
    "        df[col] = df[col].apply(np.log1p)\n",
    "    X = df.drop('index', axis=1).values\n",
    "    X = StandardScaler().fit_transform(X)\n",
    "    kmeans = KMeans(n_clusters=n_clusters).fit(X)\n",
    "    df.loc[:, 'group'] = kmeans.labels_\n",
    "    group_analysis(df)"
   ]
  },
  {
   "cell_type": "code",
   "execution_count": null,
   "metadata": {},
   "outputs": [],
   "source": [
    "deltas = [1, 7, 14, 30, 90, 180]\n",
    "deltas = list(map(timedelta, deltas))"
   ]
  },
  {
   "cell_type": "code",
   "execution_count": null,
   "metadata": {
    "code_folding": []
   },
   "outputs": [],
   "source": [
    "date_start = datetime(2017, 1, 1)\n",
    "date_end = datetime(2018, 1, 1)\n",
    "df_ = make_dataset(data, date_start, date_end)\n",
    "\n",
    "scaler = StandardScaler()\n",
    "\n",
    "for col in ['monetary', 'clothing', 'food', \n",
    "            'high-tech', 'home', 'other']:\n",
    "    df_[col] = df_[col].apply(np.log1p)\n",
    "X = df_.drop('index', axis=1).values\n",
    "X = scaler.fit_transform(X)\n",
    "kmeans = KMeans(n_clusters=9).fit(X)\n",
    "df_.loc[:, 'group'] = kmeans.labels_\n",
    "group_analysis(df_)\n",
    "df_.set_index('index', inplace=True)\n",
    "centers_ = kmeans.cluster_centers_\n",
    "\n",
    "for delta in deltas:\n",
    "    date_start = datetime(2017, 1, 1)\n",
    "    date_end = datetime(2018, 1, 1) + delta\n",
    "    print(f'Période allant du {date_start} au {date_end}')\n",
    "    df = make_dataset(data, date_start, date_end)\n",
    "    for col in ['monetary', 'clothing', 'food', \n",
    "                'high-tech', 'home', 'other']:\n",
    "        df[col] = df[col].apply(np.log1p)\n",
    "    X = df.drop('index', axis=1).values\n",
    "    X = scaler.fit_transform(X)\n",
    "    kmeans = KMeans(n_clusters=9, init=centers_).fit(X)\n",
    "    df.loc[:, 'group'] = kmeans.labels_\n",
    "    group_analysis(df)\n",
    "    df.set_index('index', inplace=True)\n",
    "    print(f\"Nombre de nouveaux clients %i\" % (df.shape[0] - df_.shape[0]))\n",
    "    moved = df_.shape[0] - (df.loc[df_.index]['group'] == df_.group).sum()\n",
    "    print(f'Nombre de clients ayant changé de groupe %i' % moved)"
   ]
  },
  {
   "cell_type": "code",
   "execution_count": null,
   "metadata": {},
   "outputs": [],
   "source": []
  }
 ],
 "metadata": {
  "kernelspec": {
   "display_name": "olist",
   "language": "python",
   "name": "olist"
  },
  "language_info": {
   "codemirror_mode": {
    "name": "ipython",
    "version": 3
   },
   "file_extension": ".py",
   "mimetype": "text/x-python",
   "name": "python",
   "nbconvert_exporter": "python",
   "pygments_lexer": "ipython3",
   "version": "3.7.4"
  }
 },
 "nbformat": 4,
 "nbformat_minor": 2
}
