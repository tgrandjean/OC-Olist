{
 "cells": [
  {
   "cell_type": "markdown",
   "metadata": {},
   "source": [
    "Segmentez des clients d'un site de e-commerce\n",
    "==========================================\n",
    "\n",
    "![logo](https://olist.com/wp-content/uploads/2018/04/Logo-01.png)"
   ]
  },
  {
   "cell_type": "code",
   "execution_count": null,
   "metadata": {},
   "outputs": [],
   "source": [
    "import os\n",
    "from pathlib import Path\n",
    "from datetime import datetime\n",
    "\n",
    "import matplotlib\n",
    "import pandas as pd\n",
    "import matplotlib.pyplot as plt\n",
    "import seaborn as sns\n",
    "from ipywidgets import widgets, interact\n",
    "from IPython.display import display\n",
    "\n",
    "from src.features import build_features\n",
    "from src.visualization.visualize import piechart, distplot, barplot\n",
    "\n",
    "sns.set(font_scale=1.5)"
   ]
  },
  {
   "cell_type": "code",
   "execution_count": null,
   "metadata": {},
   "outputs": [],
   "source": [
    "data = build_features.load_data(Path('../data/raw').resolve())"
   ]
  },
  {
   "cell_type": "code",
   "execution_count": null,
   "metadata": {},
   "outputs": [],
   "source": [
    "def make_dataset(data, date_start, date_end):\n",
    "    orders = build_features.get_orders_between_two_dates(data, date_start, date_end)\n",
    "    customers = build_features.customer_table(data)\n",
    "    customers = build_features.frequencies(customers, orders, data)\n",
    "    customers = build_features.recencies(customers, orders, data)\n",
    "    customers = build_features.monetary(customers, orders, data)\n",
    "    customers = build_features.items_per_cart(customers, orders, data)\n",
    "    customers = build_features.monetary_per_categ(customers, orders, data)\n",
    "    customers = build_features.reviews(customers, data)\n",
    "    customers = customers[customers['frequency'] > 0]\n",
    "    customers = customers[customers['recency'].notna()]\n",
    "    customers.fillna(0.0, inplace=True)\n",
    "    customers['recency'] = customers['recency'].apply(lambda x: x.days)\n",
    "    customers.reset_index(drop=False, inplace=True)\n",
    "    customers.drop_duplicates(inplace=True)\n",
    "    customers = customers[customers['monetary'] > 0]\n",
    "    return customers"
   ]
  },
  {
   "cell_type": "code",
   "execution_count": null,
   "metadata": {},
   "outputs": [],
   "source": [
    "customers = make_dataset(data, '1970-01-01', '2020-01-01')"
   ]
  },
  {
   "cell_type": "code",
   "execution_count": null,
   "metadata": {},
   "outputs": [],
   "source": [
    "customers.describe()"
   ]
  },
  {
   "cell_type": "code",
   "execution_count": null,
   "metadata": {},
   "outputs": [],
   "source": [
    "piechart(customers['frequency'].apply(lambda x: 'unique' if x == 1 else 'régulier' ))"
   ]
  },
  {
   "cell_type": "code",
   "execution_count": null,
   "metadata": {},
   "outputs": [],
   "source": [
    "piechart(customers['item_per_c'].apply(lambda x: 1 if x == 1 else '1+'))"
   ]
  },
  {
   "cell_type": "code",
   "execution_count": null,
   "metadata": {},
   "outputs": [],
   "source": [
    "distplot(customers['recency'])\n",
    "plt.show()"
   ]
  },
  {
   "cell_type": "code",
   "execution_count": null,
   "metadata": {},
   "outputs": [],
   "source": [
    "distplot(customers['monetary'])\n",
    "plt.show()"
   ]
  },
  {
   "cell_type": "code",
   "execution_count": null,
   "metadata": {},
   "outputs": [],
   "source": [
    "f, ax = plt.subplots(1, figsize=(8, 6))\n",
    "plt.hist(customers['review_score'], range=(0, 5), bins=5)\n",
    "plt.show()"
   ]
  },
  {
   "cell_type": "code",
   "execution_count": null,
   "metadata": {},
   "outputs": [],
   "source": [
    "categs = ['clothing', 'food', 'hobbies', 'high-tech', 'home', 'other']"
   ]
  },
  {
   "cell_type": "code",
   "execution_count": null,
   "metadata": {},
   "outputs": [],
   "source": [
    "cat_count = customers[categs].astype(bool).sum()\n",
    "_, ax = plt.subplots(1, figsize=(8, 8))\n",
    "ax.pie(cat_count.values, labels=cat_count.index, autopct='%1.1f%%')\n",
    "plt.show()"
   ]
  },
  {
   "cell_type": "code",
   "execution_count": null,
   "metadata": {},
   "outputs": [],
   "source": [
    "revenues_repartition = customers[categs].sum()\n",
    "_, ax = plt.subplots(1, figsize=(8, 8))\n",
    "ax.pie(revenues_repartition.values, labels=revenues_repartition.index, autopct='%1.1f%%')\n",
    "plt.show()"
   ]
  },
  {
   "cell_type": "code",
   "execution_count": null,
   "metadata": {},
   "outputs": [],
   "source": [
    "customers = make_dataset(data, '2017-01-01', '2018-01-01')"
   ]
  },
  {
   "cell_type": "code",
   "execution_count": null,
   "metadata": {},
   "outputs": [],
   "source": [
    "from sklearn.decomposition import PCA\n",
    "import plotly.express as px"
   ]
  },
  {
   "cell_type": "code",
   "execution_count": null,
   "metadata": {},
   "outputs": [],
   "source": [
    "pca = PCA(n_components=3).fit(customers.iloc[:, 1:].values)"
   ]
  },
  {
   "cell_type": "code",
   "execution_count": null,
   "metadata": {},
   "outputs": [],
   "source": [
    "y = pca.transform(customers.iloc[:, 1:].values)"
   ]
  },
  {
   "cell_type": "code",
   "execution_count": null,
   "metadata": {},
   "outputs": [],
   "source": [
    "fig = px.scatter_3d(x=y[:, 0], y=y[:, 1], z=y[:, 2])\n",
    "fig.show()"
   ]
  },
  {
   "cell_type": "code",
   "execution_count": null,
   "metadata": {},
   "outputs": [],
   "source": [
    "customers.to_csv('../data/processed/dataset.csv', index=False)"
   ]
  }
 ],
 "metadata": {
  "kernelspec": {
   "display_name": "olist",
   "language": "python",
   "name": "olist"
  },
  "language_info": {
   "codemirror_mode": {
    "name": "ipython",
    "version": 3
   },
   "file_extension": ".py",
   "mimetype": "text/x-python",
   "name": "python",
   "nbconvert_exporter": "python",
   "pygments_lexer": "ipython3",
   "version": "3.7.4"
  }
 },
 "nbformat": 4,
 "nbformat_minor": 2
}
