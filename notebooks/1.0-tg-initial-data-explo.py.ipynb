{
 "cells": [
  {
   "cell_type": "markdown",
   "metadata": {},
   "source": [
    "Segmentez des clients d'un site de e-commerce\n",
    "==========================================\n",
    "\n",
    "![logo](https://olist.com/wp-content/uploads/2018/04/Logo-01.png)"
   ]
  },
  {
   "cell_type": "code",
   "execution_count": null,
   "metadata": {},
   "outputs": [],
   "source": [
    "import os\n",
    "from pathlib import Path\n",
    "from datetime import datetime\n",
    "\n",
    "import matplotlib\n",
    "import pandas as pd\n",
    "import matplotlib.pyplot as plt\n",
    "import seaborn as sns\n",
    "from ipywidgets import widgets, interact\n",
    "from IPython.display import display\n",
    "\n",
    "from src.features import build_features\n",
    "from src.visualization.visualize import piechart, distplot\n",
    "\n",
    "sns.set(font_scale=1.5)"
   ]
  },
  {
   "cell_type": "markdown",
   "metadata": {},
   "source": [
    "## Chargement des données"
   ]
  },
  {
   "cell_type": "code",
   "execution_count": null,
   "metadata": {},
   "outputs": [],
   "source": [
    "# Use personal function from src\n",
    "data = build_features.load_data(Path('../data/raw').resolve())"
   ]
  },
  {
   "cell_type": "code",
   "execution_count": null,
   "metadata": {},
   "outputs": [],
   "source": [
    "def make_dataset(data, date_start, date_end):\n",
    "    \"\"\"Create the dataset with all features.\n",
    "    \n",
    "    :args: \n",
    "        data (dict) : dict containing all datasets.\n",
    "        date_start, date_end : lower and upper limit\n",
    "        of the dataset\n",
    "    \"\"\"\n",
    "    orders = build_features.get_orders_between_two_dates(\n",
    "        data, date_start, date_end)\n",
    "    customers = build_features.customer_table(data)\n",
    "    customers = build_features.frequencies(customers, orders, data)\n",
    "    customers = build_features.recencies(customers, orders, data)\n",
    "    customers = build_features.monetary(customers, orders, data)\n",
    "    customers = build_features.items_per_cart(customers, orders, data)\n",
    "    customers = build_features.monetary_per_categ(customers, orders, data)\n",
    "    customers = build_features.reviews(customers, data)\n",
    "    customers = customers[customers['frequency'] > 0]\n",
    "    customers = customers[customers['recency'].notna()]\n",
    "    customers.fillna(0.0, inplace=True)\n",
    "    customers['recency'] = customers['recency'].apply(lambda x: x.days)\n",
    "    customers.reset_index(drop=False, inplace=True)\n",
    "    customers.drop_duplicates(inplace=True)\n",
    "    customers = customers[customers['monetary'] > 0]\n",
    "    return customers"
   ]
  },
  {
   "cell_type": "code",
   "execution_count": null,
   "metadata": {},
   "outputs": [],
   "source": [
    "# Load all data\n",
    "customers = make_dataset(data, '1970-01-01', '2020-01-01')"
   ]
  },
  {
   "cell_type": "markdown",
   "metadata": {},
   "source": [
    "## Analyse des données"
   ]
  },
  {
   "cell_type": "code",
   "execution_count": null,
   "metadata": {},
   "outputs": [],
   "source": [
    "customers.describe()"
   ]
  },
  {
   "cell_type": "markdown",
   "metadata": {},
   "source": [
    "### Fréquence"
   ]
  },
  {
   "cell_type": "code",
   "execution_count": null,
   "metadata": {},
   "outputs": [],
   "source": [
    "piechart(customers['frequency'].apply(\n",
    "    lambda x: 'unique' if x == 1 else 'régulier'))"
   ]
  },
  {
   "cell_type": "markdown",
   "metadata": {},
   "source": [
    "### Nombre d'articles par panier"
   ]
  },
  {
   "cell_type": "code",
   "execution_count": null,
   "metadata": {},
   "outputs": [],
   "source": [
    "piechart(customers['item_per_c'].apply(lambda x: 1 if x == 1 else '1+'))"
   ]
  },
  {
   "cell_type": "markdown",
   "metadata": {},
   "source": [
    "### Récence"
   ]
  },
  {
   "cell_type": "code",
   "execution_count": null,
   "metadata": {},
   "outputs": [],
   "source": [
    "distplot(customers['recency'], kde=False, norm_hist=True)\n",
    "plt.show()"
   ]
  },
  {
   "cell_type": "markdown",
   "metadata": {},
   "source": [
    "### Monetary"
   ]
  },
  {
   "cell_type": "code",
   "execution_count": null,
   "metadata": {},
   "outputs": [],
   "source": [
    "distplot(customers['monetary'], kde=False, norm_hist=True)\n",
    "plt.show()"
   ]
  },
  {
   "cell_type": "markdown",
   "metadata": {},
   "source": [
    "### Review score"
   ]
  },
  {
   "cell_type": "code",
   "execution_count": null,
   "metadata": {},
   "outputs": [],
   "source": [
    "f, ax = plt.subplots(1, figsize=(8, 6))\n",
    "ax.hist(customers['review_score'], range=(0, 5), bins=5)\n",
    "ax.set_xticks([x for x in range(1, 6)])\n",
    "plt.xlim(1, 5)\n",
    "plt.show()"
   ]
  },
  {
   "cell_type": "markdown",
   "metadata": {},
   "source": [
    "### Catégories"
   ]
  },
  {
   "cell_type": "code",
   "execution_count": null,
   "metadata": {},
   "outputs": [],
   "source": [
    "categs = ['clothing', 'hobbies', 'high-tech', 'home', 'other']"
   ]
  },
  {
   "cell_type": "code",
   "execution_count": null,
   "metadata": {},
   "outputs": [],
   "source": [
    "cat_count = customers[categs].astype(bool).sum()\n",
    "_, ax = plt.subplots(1, figsize=(8, 8))\n",
    "ax.pie(cat_count.values, labels=cat_count.index, autopct='%1.1f%%')\n",
    "plt.show()"
   ]
  },
  {
   "cell_type": "code",
   "execution_count": null,
   "metadata": {},
   "outputs": [],
   "source": [
    "cat_count.sort_values(inplace=True)\n",
    "plt.barh(y=cat_count.index, width=cat_count.values)"
   ]
  },
  {
   "cell_type": "code",
   "execution_count": null,
   "metadata": {},
   "outputs": [],
   "source": [
    "revenues_repartition = customers[categs].sum()\n",
    "_, ax = plt.subplots(1, figsize=(8, 8))\n",
    "ax.pie(revenues_repartition.values,\n",
    "       labels=revenues_repartition.index, autopct='%1.1f%%')\n",
    "plt.show()"
   ]
  },
  {
   "cell_type": "markdown",
   "metadata": {},
   "source": [
    "## Dataset pour segmentation"
   ]
  },
  {
   "cell_type": "code",
   "execution_count": null,
   "metadata": {},
   "outputs": [],
   "source": [
    "customers = make_dataset(data, '2017-01-01', '2018-01-01')"
   ]
  },
  {
   "cell_type": "code",
   "execution_count": null,
   "metadata": {},
   "outputs": [],
   "source": [
    "customers.to_csv('../data/processed/dataset.csv', index=False)"
   ]
  }
 ],
 "metadata": {
  "kernelspec": {
   "display_name": "olist",
   "language": "python",
   "name": "olist"
  },
  "language_info": {
   "codemirror_mode": {
    "name": "ipython",
    "version": 3
   },
   "file_extension": ".py",
   "mimetype": "text/x-python",
   "name": "python",
   "nbconvert_exporter": "python",
   "pygments_lexer": "ipython3",
   "version": "3.7.4"
  },
  "toc": {
   "base_numbering": 1,
   "nav_menu": {},
   "number_sections": true,
   "sideBar": true,
   "skip_h1_title": false,
   "title_cell": "Table of Contents",
   "title_sidebar": "Contents",
   "toc_cell": false,
   "toc_position": {},
   "toc_section_display": true,
   "toc_window_display": true
  },
  "varInspector": {
   "cols": {
    "lenName": 16,
    "lenType": 16,
    "lenVar": 40
   },
   "kernels_config": {
    "python": {
     "delete_cmd_postfix": "",
     "delete_cmd_prefix": "del ",
     "library": "var_list.py",
     "varRefreshCmd": "print(var_dic_list())"
    },
    "r": {
     "delete_cmd_postfix": ") ",
     "delete_cmd_prefix": "rm(",
     "library": "var_list.r",
     "varRefreshCmd": "cat(var_dic_list()) "
    }
   },
   "types_to_exclude": [
    "module",
    "function",
    "builtin_function_or_method",
    "instance",
    "_Feature"
   ],
   "window_display": false
  }
 },
 "nbformat": 4,
 "nbformat_minor": 2
}
